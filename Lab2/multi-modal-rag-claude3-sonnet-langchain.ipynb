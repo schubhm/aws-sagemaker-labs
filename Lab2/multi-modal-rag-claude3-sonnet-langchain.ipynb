{
 "cells": [
  {
   "cell_type": "markdown",
   "metadata": {},
   "source": [
    "# Multi-modal RAG using Claude 3 Sonnet provided by Amazon Bedrock\n",
    "Most of documents especially in finance domain, have a blend of content formats, such as textual data and visual representations such as bar charts and line graphs (images).\n",
    "\n",
    "However, the information encapsulated within images is often disregarded in the majority of Retrieval-Augmented Generation (RAG) applications.\n",
    "\n",
    "With the advent of multimodal Large Language Models (LLMs), like `Anthropic Claude 3 Sonnet`, it becomes relevant to explore methodologies for leveraging visual data in RAG applications.\n",
    "\n",
    "## Steps followed in the notebook\n",
    "1. Use a multimodal large language model (LLM), like Claude 3 Sonnet, to generate concise text descriptions from visual inputs (images).\n",
    "\n",
    "2. Convert the textual summaries and raw image data into numerical representations (embeddings) and store them in a retrievable format, maintaining a linkage between the summaries and their corresponding images.\n",
    "\n",
    "3. Feed the raw image data and relevant text chunks into a multimodal LLM, which can jointly process and synthesize information from both modalities to produce an answer.\n",
    "\n",
    "We will use `pypdf` to parse images, and text from documents (PDFs).\n",
    "We will use the [`multi-vector retriever`](#https://python.langchain.com/docs/modules/data_connection/retrievers/multi_vector) with Chroma DB to store raw text, tables and images along with their summaries for retrieval.\n",
    "\n",
    "Reference:\n",
    "[Multi-modal RAG](#https://github.com/sudarshan-koirala/youtube-stuffs/blob/main/langchain/LangChain_Multi_modal_RAG.ipynb) authored by Sudarshan Koirala"
   ]
  },
  {
   "cell_type": "markdown",
   "metadata": {},
   "source": [
    "## Setup\n",
    "Install required packages and import the libraries, which will be used throughout the notebook.\n",
    "Make sure to restart the kernel after installing the packages."
   ]
  },
  {
   "cell_type": "code",
   "execution_count": 8,
   "metadata": {},
   "outputs": [
    {
     "name": "stdout",
     "output_type": "stream",
     "text": [
      "\u001b[33mWARNING: Ignoring invalid distribution -angchain (/opt/conda/lib/python3.10/site-packages)\u001b[0m\u001b[33m\n",
      "\u001b[0mRequirement already satisfied: pypdf in /opt/conda/lib/python3.10/site-packages (4.2.0)\n",
      "Requirement already satisfied: typing_extensions>=4.0 in /opt/conda/lib/python3.10/site-packages (from pypdf) (4.5.0)\n",
      "\u001b[33mWARNING: Ignoring invalid distribution -angchain (/opt/conda/lib/python3.10/site-packages)\u001b[0m\u001b[33m\n",
      "\u001b[0mNote: you may need to restart the kernel to use updated packages.\n",
      "\u001b[33mWARNING: Ignoring invalid distribution -angchain (/opt/conda/lib/python3.10/site-packages)\u001b[0m\u001b[33m\n",
      "\u001b[0mRequirement already satisfied: matplotlib in /opt/conda/lib/python3.10/site-packages (3.8.4)\n",
      "Requirement already satisfied: scikit-image in /opt/conda/lib/python3.10/site-packages (0.19.3)\n",
      "Requirement already satisfied: contourpy>=1.0.1 in /opt/conda/lib/python3.10/site-packages (from matplotlib) (1.2.1)\n",
      "Requirement already satisfied: cycler>=0.10 in /opt/conda/lib/python3.10/site-packages (from matplotlib) (0.12.1)\n",
      "Requirement already satisfied: fonttools>=4.22.0 in /opt/conda/lib/python3.10/site-packages (from matplotlib) (4.51.0)\n",
      "Requirement already satisfied: kiwisolver>=1.3.1 in /opt/conda/lib/python3.10/site-packages (from matplotlib) (1.4.5)\n",
      "Requirement already satisfied: numpy>=1.21 in /opt/conda/lib/python3.10/site-packages (from matplotlib) (1.26.4)\n",
      "Requirement already satisfied: packaging>=20.0 in /opt/conda/lib/python3.10/site-packages (from matplotlib) (23.2)\n",
      "Requirement already satisfied: pillow>=8 in /opt/conda/lib/python3.10/site-packages (from matplotlib) (9.5.0)\n",
      "Requirement already satisfied: pyparsing>=2.3.1 in /opt/conda/lib/python3.10/site-packages (from matplotlib) (3.1.2)\n",
      "Requirement already satisfied: python-dateutil>=2.7 in /opt/conda/lib/python3.10/site-packages (from matplotlib) (2.9.0.post0)\n",
      "Requirement already satisfied: scipy>=1.4.1 in /opt/conda/lib/python3.10/site-packages (from scikit-image) (1.11.4)\n",
      "Requirement already satisfied: networkx>=2.2 in /opt/conda/lib/python3.10/site-packages (from scikit-image) (3.3)\n",
      "Requirement already satisfied: imageio>=2.4.1 in /opt/conda/lib/python3.10/site-packages (from scikit-image) (2.34.0)\n",
      "Requirement already satisfied: tifffile>=2019.7.26 in /opt/conda/lib/python3.10/site-packages (from scikit-image) (2024.2.12)\n",
      "Requirement already satisfied: PyWavelets>=1.1.1 in /opt/conda/lib/python3.10/site-packages (from scikit-image) (1.4.1)\n",
      "Requirement already satisfied: six>=1.5 in /opt/conda/lib/python3.10/site-packages (from python-dateutil>=2.7->matplotlib) (1.16.0)\n",
      "\u001b[33mWARNING: Ignoring invalid distribution -angchain (/opt/conda/lib/python3.10/site-packages)\u001b[0m\u001b[33m\n",
      "\u001b[0mNote: you may need to restart the kernel to use updated packages.\n",
      "\u001b[33mWARNING: Ignoring invalid distribution -angchain (/opt/conda/lib/python3.10/site-packages)\u001b[0m\u001b[33m\n",
      "\u001b[0mRequirement already satisfied: ftfy in /opt/conda/lib/python3.10/site-packages (6.2.0)\n",
      "Requirement already satisfied: regex in /opt/conda/lib/python3.10/site-packages (2023.12.25)\n",
      "Requirement already satisfied: tqdm in /opt/conda/lib/python3.10/site-packages (4.66.2)\n",
      "Requirement already satisfied: wcwidth<0.3.0,>=0.2.12 in /opt/conda/lib/python3.10/site-packages (from ftfy) (0.2.13)\n",
      "\u001b[33mWARNING: Ignoring invalid distribution -angchain (/opt/conda/lib/python3.10/site-packages)\u001b[0m\u001b[33m\n",
      "\u001b[0mNote: you may need to restart the kernel to use updated packages.\n",
      "\u001b[33mWARNING: Ignoring invalid distribution -angchain (/opt/conda/lib/python3.10/site-packages)\u001b[0m\u001b[33m\n",
      "\u001b[0mRequirement already satisfied: chromadb in /opt/conda/lib/python3.10/site-packages (0.5.0)\n",
      "Requirement already satisfied: build>=1.0.3 in /opt/conda/lib/python3.10/site-packages (from chromadb) (1.2.1)\n",
      "Requirement already satisfied: requests>=2.28 in /opt/conda/lib/python3.10/site-packages (from chromadb) (2.31.0)\n",
      "Requirement already satisfied: pydantic>=1.9 in /opt/conda/lib/python3.10/site-packages (from chromadb) (1.10.14)\n",
      "Requirement already satisfied: chroma-hnswlib==0.7.3 in /opt/conda/lib/python3.10/site-packages (from chromadb) (0.7.3)\n",
      "Requirement already satisfied: fastapi>=0.95.2 in /opt/conda/lib/python3.10/site-packages (from chromadb) (0.103.2)\n",
      "Requirement already satisfied: uvicorn>=0.18.3 in /opt/conda/lib/python3.10/site-packages (from uvicorn[standard]>=0.18.3->chromadb) (0.29.0)\n",
      "Requirement already satisfied: numpy>=1.22.5 in /opt/conda/lib/python3.10/site-packages (from chromadb) (1.26.4)\n",
      "Requirement already satisfied: posthog>=2.4.0 in /opt/conda/lib/python3.10/site-packages (from chromadb) (3.5.0)\n",
      "Requirement already satisfied: typing-extensions>=4.5.0 in /opt/conda/lib/python3.10/site-packages (from chromadb) (4.5.0)\n",
      "Requirement already satisfied: onnxruntime>=1.14.1 in /opt/conda/lib/python3.10/site-packages (from chromadb) (1.17.3)\n",
      "Requirement already satisfied: opentelemetry-api>=1.2.0 in /opt/conda/lib/python3.10/site-packages (from chromadb) (1.24.0)\n",
      "Requirement already satisfied: opentelemetry-exporter-otlp-proto-grpc>=1.2.0 in /opt/conda/lib/python3.10/site-packages (from chromadb) (1.24.0)\n",
      "Requirement already satisfied: opentelemetry-instrumentation-fastapi>=0.41b0 in /opt/conda/lib/python3.10/site-packages (from chromadb) (0.45b0)\n",
      "Requirement already satisfied: opentelemetry-sdk>=1.2.0 in /opt/conda/lib/python3.10/site-packages (from chromadb) (1.24.0)\n",
      "Requirement already satisfied: tokenizers>=0.13.2 in /opt/conda/lib/python3.10/site-packages (from chromadb) (0.13.3)\n",
      "Requirement already satisfied: pypika>=0.48.9 in /opt/conda/lib/python3.10/site-packages (from chromadb) (0.48.9)\n",
      "Requirement already satisfied: tqdm>=4.65.0 in /opt/conda/lib/python3.10/site-packages (from chromadb) (4.66.2)\n",
      "Requirement already satisfied: overrides>=7.3.1 in /opt/conda/lib/python3.10/site-packages (from chromadb) (7.7.0)\n",
      "Requirement already satisfied: importlib-resources in /opt/conda/lib/python3.10/site-packages (from chromadb) (6.4.0)\n",
      "Requirement already satisfied: grpcio>=1.58.0 in /opt/conda/lib/python3.10/site-packages (from chromadb) (1.63.0)\n",
      "Requirement already satisfied: bcrypt>=4.0.1 in /opt/conda/lib/python3.10/site-packages (from chromadb) (4.1.2)\n",
      "Requirement already satisfied: typer>=0.9.0 in /opt/conda/lib/python3.10/site-packages (from chromadb) (0.9.4)\n",
      "Requirement already satisfied: kubernetes>=28.1.0 in /opt/conda/lib/python3.10/site-packages (from chromadb) (29.0.0)\n",
      "Requirement already satisfied: tenacity>=8.2.3 in /opt/conda/lib/python3.10/site-packages (from chromadb) (8.2.3)\n",
      "Requirement already satisfied: PyYAML>=6.0.0 in /opt/conda/lib/python3.10/site-packages (from chromadb) (6.0.1)\n",
      "Requirement already satisfied: mmh3>=4.0.1 in /opt/conda/lib/python3.10/site-packages (from chromadb) (4.1.0)\n",
      "Requirement already satisfied: orjson>=3.9.12 in /opt/conda/lib/python3.10/site-packages (from chromadb) (3.9.15)\n",
      "Requirement already satisfied: packaging>=19.1 in /opt/conda/lib/python3.10/site-packages (from build>=1.0.3->chromadb) (23.2)\n",
      "Requirement already satisfied: pyproject_hooks in /opt/conda/lib/python3.10/site-packages (from build>=1.0.3->chromadb) (1.1.0)\n",
      "Requirement already satisfied: tomli>=1.1.0 in /opt/conda/lib/python3.10/site-packages (from build>=1.0.3->chromadb) (2.0.1)\n",
      "Requirement already satisfied: anyio<4.0.0,>=3.7.1 in /opt/conda/lib/python3.10/site-packages (from fastapi>=0.95.2->chromadb) (3.7.1)\n",
      "Requirement already satisfied: starlette<0.28.0,>=0.27.0 in /opt/conda/lib/python3.10/site-packages (from fastapi>=0.95.2->chromadb) (0.27.0)\n",
      "Requirement already satisfied: certifi>=14.05.14 in /opt/conda/lib/python3.10/site-packages (from kubernetes>=28.1.0->chromadb) (2024.2.2)\n",
      "Requirement already satisfied: six>=1.9.0 in /opt/conda/lib/python3.10/site-packages (from kubernetes>=28.1.0->chromadb) (1.16.0)\n",
      "Requirement already satisfied: python-dateutil>=2.5.3 in /opt/conda/lib/python3.10/site-packages (from kubernetes>=28.1.0->chromadb) (2.9.0.post0)\n",
      "Requirement already satisfied: google-auth>=1.0.1 in /opt/conda/lib/python3.10/site-packages (from kubernetes>=28.1.0->chromadb) (2.29.0)\n",
      "Requirement already satisfied: websocket-client!=0.40.0,!=0.41.*,!=0.42.*,>=0.32.0 in /opt/conda/lib/python3.10/site-packages (from kubernetes>=28.1.0->chromadb) (1.7.0)\n",
      "Requirement already satisfied: requests-oauthlib in /opt/conda/lib/python3.10/site-packages (from kubernetes>=28.1.0->chromadb) (2.0.0)\n",
      "Requirement already satisfied: oauthlib>=3.2.2 in /opt/conda/lib/python3.10/site-packages (from kubernetes>=28.1.0->chromadb) (3.2.2)\n",
      "Requirement already satisfied: urllib3>=1.24.2 in /opt/conda/lib/python3.10/site-packages (from kubernetes>=28.1.0->chromadb) (2.2.1)\n",
      "Requirement already satisfied: coloredlogs in /opt/conda/lib/python3.10/site-packages (from onnxruntime>=1.14.1->chromadb) (15.0.1)\n",
      "Requirement already satisfied: flatbuffers in /opt/conda/lib/python3.10/site-packages (from onnxruntime>=1.14.1->chromadb) (24.3.25)\n",
      "Requirement already satisfied: protobuf in /opt/conda/lib/python3.10/site-packages (from onnxruntime>=1.14.1->chromadb) (4.21.12)\n",
      "Requirement already satisfied: sympy in /opt/conda/lib/python3.10/site-packages (from onnxruntime>=1.14.1->chromadb) (1.12)\n",
      "Requirement already satisfied: deprecated>=1.2.6 in /opt/conda/lib/python3.10/site-packages (from opentelemetry-api>=1.2.0->chromadb) (1.2.14)\n",
      "Requirement already satisfied: importlib-metadata<=7.0,>=6.0 in /opt/conda/lib/python3.10/site-packages (from opentelemetry-api>=1.2.0->chromadb) (6.10.0)\n",
      "Requirement already satisfied: googleapis-common-protos~=1.52 in /opt/conda/lib/python3.10/site-packages (from opentelemetry-exporter-otlp-proto-grpc>=1.2.0->chromadb) (1.63.0)\n",
      "Requirement already satisfied: opentelemetry-exporter-otlp-proto-common==1.24.0 in /opt/conda/lib/python3.10/site-packages (from opentelemetry-exporter-otlp-proto-grpc>=1.2.0->chromadb) (1.24.0)\n",
      "Requirement already satisfied: opentelemetry-proto==1.24.0 in /opt/conda/lib/python3.10/site-packages (from opentelemetry-exporter-otlp-proto-grpc>=1.2.0->chromadb) (1.24.0)\n",
      "Requirement already satisfied: opentelemetry-instrumentation-asgi==0.45b0 in /opt/conda/lib/python3.10/site-packages (from opentelemetry-instrumentation-fastapi>=0.41b0->chromadb) (0.45b0)\n",
      "Requirement already satisfied: opentelemetry-instrumentation==0.45b0 in /opt/conda/lib/python3.10/site-packages (from opentelemetry-instrumentation-fastapi>=0.41b0->chromadb) (0.45b0)\n",
      "Requirement already satisfied: opentelemetry-semantic-conventions==0.45b0 in /opt/conda/lib/python3.10/site-packages (from opentelemetry-instrumentation-fastapi>=0.41b0->chromadb) (0.45b0)\n",
      "Requirement already satisfied: opentelemetry-util-http==0.45b0 in /opt/conda/lib/python3.10/site-packages (from opentelemetry-instrumentation-fastapi>=0.41b0->chromadb) (0.45b0)\n",
      "Requirement already satisfied: setuptools>=16.0 in /opt/conda/lib/python3.10/site-packages (from opentelemetry-instrumentation==0.45b0->opentelemetry-instrumentation-fastapi>=0.41b0->chromadb) (69.5.1)\n",
      "Requirement already satisfied: wrapt<2.0.0,>=1.0.0 in /opt/conda/lib/python3.10/site-packages (from opentelemetry-instrumentation==0.45b0->opentelemetry-instrumentation-fastapi>=0.41b0->chromadb) (1.16.0)\n",
      "Requirement already satisfied: asgiref~=3.0 in /opt/conda/lib/python3.10/site-packages (from opentelemetry-instrumentation-asgi==0.45b0->opentelemetry-instrumentation-fastapi>=0.41b0->chromadb) (3.8.1)\n",
      "Requirement already satisfied: monotonic>=1.5 in /opt/conda/lib/python3.10/site-packages (from posthog>=2.4.0->chromadb) (1.6)\n",
      "Requirement already satisfied: backoff>=1.10.0 in /opt/conda/lib/python3.10/site-packages (from posthog>=2.4.0->chromadb) (2.2.1)\n",
      "Requirement already satisfied: charset-normalizer<4,>=2 in /opt/conda/lib/python3.10/site-packages (from requests>=2.28->chromadb) (3.3.2)\n",
      "Requirement already satisfied: idna<4,>=2.5 in /opt/conda/lib/python3.10/site-packages (from requests>=2.28->chromadb) (3.6)\n",
      "Requirement already satisfied: click<9.0.0,>=7.1.1 in /opt/conda/lib/python3.10/site-packages (from typer>=0.9.0->chromadb) (8.1.7)\n",
      "Requirement already satisfied: h11>=0.8 in /opt/conda/lib/python3.10/site-packages (from uvicorn>=0.18.3->uvicorn[standard]>=0.18.3->chromadb) (0.14.0)\n",
      "Requirement already satisfied: httptools>=0.5.0 in /opt/conda/lib/python3.10/site-packages (from uvicorn[standard]>=0.18.3->chromadb) (0.6.1)\n",
      "Requirement already satisfied: python-dotenv>=0.13 in /opt/conda/lib/python3.10/site-packages (from uvicorn[standard]>=0.18.3->chromadb) (1.0.1)\n",
      "Requirement already satisfied: uvloop!=0.15.0,!=0.15.1,>=0.14.0 in /opt/conda/lib/python3.10/site-packages (from uvicorn[standard]>=0.18.3->chromadb) (0.19.0)\n",
      "Requirement already satisfied: watchfiles>=0.13 in /opt/conda/lib/python3.10/site-packages (from uvicorn[standard]>=0.18.3->chromadb) (0.21.0)\n",
      "Requirement already satisfied: websockets>=10.4 in /opt/conda/lib/python3.10/site-packages (from uvicorn[standard]>=0.18.3->chromadb) (12.0)\n",
      "Requirement already satisfied: sniffio>=1.1 in /opt/conda/lib/python3.10/site-packages (from anyio<4.0.0,>=3.7.1->fastapi>=0.95.2->chromadb) (1.3.1)\n",
      "Requirement already satisfied: exceptiongroup in /opt/conda/lib/python3.10/site-packages (from anyio<4.0.0,>=3.7.1->fastapi>=0.95.2->chromadb) (1.2.0)\n",
      "Requirement already satisfied: cachetools<6.0,>=2.0.0 in /opt/conda/lib/python3.10/site-packages (from google-auth>=1.0.1->kubernetes>=28.1.0->chromadb) (5.3.3)\n",
      "Requirement already satisfied: pyasn1-modules>=0.2.1 in /opt/conda/lib/python3.10/site-packages (from google-auth>=1.0.1->kubernetes>=28.1.0->chromadb) (0.3.0)\n",
      "Requirement already satisfied: rsa<5,>=3.1.4 in /opt/conda/lib/python3.10/site-packages (from google-auth>=1.0.1->kubernetes>=28.1.0->chromadb) (4.9)\n",
      "Requirement already satisfied: zipp>=0.5 in /opt/conda/lib/python3.10/site-packages (from importlib-metadata<=7.0,>=6.0->opentelemetry-api>=1.2.0->chromadb) (3.17.0)\n",
      "Requirement already satisfied: humanfriendly>=9.1 in /opt/conda/lib/python3.10/site-packages (from coloredlogs->onnxruntime>=1.14.1->chromadb) (10.0)\n",
      "Requirement already satisfied: mpmath>=0.19 in /opt/conda/lib/python3.10/site-packages (from sympy->onnxruntime>=1.14.1->chromadb) (1.3.0)\n",
      "Requirement already satisfied: pyasn1<0.6.0,>=0.4.6 in /opt/conda/lib/python3.10/site-packages (from pyasn1-modules>=0.2.1->google-auth>=1.0.1->kubernetes>=28.1.0->chromadb) (0.5.1)\n",
      "\u001b[33mWARNING: Ignoring invalid distribution -angchain (/opt/conda/lib/python3.10/site-packages)\u001b[0m\u001b[33m\n",
      "\u001b[0mNote: you may need to restart the kernel to use updated packages.\n",
      "\u001b[33mWARNING: Ignoring invalid distribution -angchain (/opt/conda/lib/python3.10/site-packages)\u001b[0m\u001b[33m\n",
      "\u001b[0mRequirement already satisfied: sqlalchemy==2.0.0 in /opt/conda/lib/python3.10/site-packages (2.0.0)\n",
      "Requirement already satisfied: typing-extensions>=4.2.0 in /opt/conda/lib/python3.10/site-packages (from sqlalchemy==2.0.0) (4.5.0)\n",
      "Requirement already satisfied: greenlet!=0.4.17 in /opt/conda/lib/python3.10/site-packages (from sqlalchemy==2.0.0) (3.0.3)\n",
      "\u001b[33mWARNING: Ignoring invalid distribution -angchain (/opt/conda/lib/python3.10/site-packages)\u001b[0m\u001b[33m\n",
      "\u001b[0mNote: you may need to restart the kernel to use updated packages.\n",
      "\u001b[33mWARNING: Ignoring invalid distribution -angchain (/opt/conda/lib/python3.10/site-packages)\u001b[0m\u001b[33m\n",
      "\u001b[0m\u001b[33mWARNING: Ignoring invalid distribution -angchain (/opt/conda/lib/python3.10/site-packages)\u001b[0m\u001b[33m\n",
      "\u001b[0mNote: you may need to restart the kernel to use updated packages.\n"
     ]
    }
   ],
   "source": [
    "%pip install pypdf\n",
    "%pip install matplotlib scikit-image\n",
    "%pip install ftfy regex tqdm\n",
    "%pip install chromadb\n",
    "%pip install sqlalchemy==2.0.0\n",
    "%pip install --upgrade langchain>=0.1.0"
   ]
  },
  {
   "cell_type": "code",
   "execution_count": 9,
   "metadata": {},
   "outputs": [
    {
     "data": {
      "text/html": [
       "<script>Jupyter.notebook.kernel.restart()</script>"
      ],
      "text/plain": [
       "<IPython.core.display.HTML object>"
      ]
     },
     "execution_count": 9,
     "metadata": {},
     "output_type": "execute_result"
    }
   ],
   "source": [
    "# restart kernel\n",
    "from IPython.core.display import HTML\n",
    "HTML(\"<script>Jupyter.notebook.kernel.restart()</script>\")"
   ]
  },
  {
   "cell_type": "markdown",
   "metadata": {},
   "source": [
    "## Download data"
   ]
  },
  {
   "cell_type": "code",
   "execution_count": null,
   "metadata": {},
   "outputs": [],
   "source": [
    "!rm -r images\n",
    "!mkdir images"
   ]
  },
  {
   "cell_type": "code",
   "execution_count": null,
   "metadata": {},
   "outputs": [],
   "source": [
    "import urllib.request\n",
    "\n",
    "url = \"https://sgp.fas.org/crs/misc/IF10244.pdf\"\n",
    "filename = \"wildfire_stats.pdf\"\n",
    "urllib.request.urlretrieve(url,filename)"
   ]
  },
  {
   "cell_type": "markdown",
   "metadata": {},
   "source": [
    "## Extract images and text from the pdf"
   ]
  },
  {
   "cell_type": "code",
   "execution_count": null,
   "metadata": {},
   "outputs": [],
   "source": [
    "path = \"images\""
   ]
  },
  {
   "cell_type": "code",
   "execution_count": null,
   "metadata": {},
   "outputs": [],
   "source": [
    "import langchain\n",
    "from langchain_community.document_loaders import PyPDFLoader\n",
    "from langchain_text_splitters import TokenTextSplitter\n",
    "from pypdf import PdfReader\n",
    "\n",
    "reader = PdfReader(f\"{filename}\")\n",
    "print('# of pages: ', len(reader.pages))\n",
    "image_count = 0\n",
    "texts = []\n",
    "\n",
    "# extract and save images\n",
    "for page in reader.pages:\n",
    "    for image in page.images:\n",
    "        image_count+=1\n",
    "        with open(f\"{path}/{image.name}\", 'wb') as f:\n",
    "            f.write(image.data)\n",
    "\n",
    "loader = PyPDFLoader(filename)\n",
    "documents = loader.load_and_split()\n",
    "\n",
    "text_splitter = TokenTextSplitter(chunk_size=500, chunk_overlap=0)\n",
    "\n",
    "docs = text_splitter.split_documents(documents)\n",
    "print(\"# of text chunks: \", len(docs))\n",
    "print(\"# of images in document: \", image_count)"
   ]
  },
  {
   "cell_type": "markdown",
   "metadata": {},
   "source": [
    "### Plot the images in the file"
   ]
  },
  {
   "cell_type": "code",
   "execution_count": null,
   "metadata": {},
   "outputs": [],
   "source": [
    "from PIL import Image\n",
    "import matplotlib.pyplot as plt\n",
    "import os\n",
    "\n",
    "image_paths = []\n",
    "for img_path in os.listdir(\"./images\"):\n",
    "    image_paths.append(str(os.path.join(\"./images\", img_path)))\n",
    "\n",
    "\n",
    "def plot_images(image_paths):\n",
    "    images_shown = 0\n",
    "    plt.figure(figsize=(16, 9))\n",
    "    for img_path in image_paths:\n",
    "        if \".png\" in img_path:\n",
    "            image = Image.open(img_path)\n",
    "\n",
    "            plt.subplot(3, 3, images_shown + 1)\n",
    "            plt.imshow(image)\n",
    "            plt.xticks([])\n",
    "            plt.yticks([])\n",
    "            images_shown += 1\n",
    "            if images_shown >= 9:\n",
    "                break\n",
    "\n",
    "print(\"Images in the document\")\n",
    "plot_images(image_paths)\n"
   ]
  },
  {
   "cell_type": "markdown",
   "metadata": {},
   "source": [
    "## Create image summaries using Claude 3 Sonnet\n",
    "We will use Claude 3 Sonnet model from Anthropic to create image summaries, which we will store in the `multi-vector retriever` from Langchain."
   ]
  },
  {
   "cell_type": "markdown",
   "metadata": {},
   "source": [
    "Before that, lets first set up a connection to the Anthropic Claude multimodal model using the AWS Bedrock service. Imports necessary libraries, configure the AWS Boto3 client, and initialize the Bedrock chat model interface using the LangChain library. "
   ]
  },
  {
   "cell_type": "code",
   "execution_count": 6,
   "metadata": {},
   "outputs": [
    {
     "name": "stdout",
     "output_type": "stream",
     "text": [
      "us-east-1\n"
     ]
    }
   ],
   "source": [
    "import boto3\n",
    "import pprint\n",
    "from botocore.client import Config\n",
    "import json\n",
    "from langchain_community.chat_models.bedrock import BedrockChat\n",
    "\n",
    "pp = pprint.PrettyPrinter(indent=2)\n",
    "modelId = 'anthropic.claude-3-sonnet-20240229-v1:0' # change this to use a different version from the model provider\n",
    "session = boto3.session.Session()\n",
    "region = session.region_name\n",
    "bedrock_config = Config(connect_timeout=120, read_timeout=120, retries={'max_attempts': 0})\n",
    "bedrock_client = boto3.client('bedrock-runtime', region_name = region)\n",
    "print(region)\n",
    "accept = 'application/json'\n",
    "contentType = 'application/json'"
   ]
  },
  {
   "cell_type": "markdown",
   "metadata": {},
   "source": [
    "Now we will define two functions: `encode_image` and `invoke_model_sonnet`. \n",
    "- The `encode_image` function takes an image file path as input and returns the base64 encoded string representation of the image file. \n",
    "- The `invoke_model_sonnet` function takes a base64 encoded image and a prompt as input, initializes a `BedrockChat` instance, creates a message list with the prompt and image, invokes the chat model, and returns the model's response."
   ]
  },
  {
   "cell_type": "code",
   "execution_count": 7,
   "metadata": {},
   "outputs": [],
   "source": [
    "import io\n",
    "import os\n",
    "import base64\n",
    "import numpy as np\n",
    "from PIL import Image\n",
    "from langchain.chat_models.bedrock import BedrockChat\n",
    "from langchain.schema.messages import HumanMessage, SystemMessage\n",
    "\n",
    "def encode_image(image_path):\n",
    "    ''' Getting the base64 string '''\n",
    "    with open(image_path, \"rb\") as image_file:\n",
    "        return base64.b64encode(image_file.read()).decode('utf-8')\n",
    "    \n",
    "def invoke_model_sonnet(img_base64,prompt):\n",
    "    ''' Image summary '''\n",
    "    chat = BedrockChat(model_id=modelId,\n",
    "                      client=bedrock_client,\n",
    "                      model_kwargs={\n",
    "                      'temperature': 0.1, \n",
    "                      'top_p': 0.1\n",
    "                  } \n",
    "                      )\n",
    "    content = [\n",
    "        {\"type\": \"text\", \"text\": prompt},\n",
    "        {\"type\": \"image\", \"source\": {\"type\": \"base64\", \"media_type\": \"image/png\", \"data\": img_base64}}\n",
    "        ]\n",
    "    message_list = [\n",
    "    {\n",
    "        \"role\": 'user',\n",
    "        \"content\": content\n",
    "    }\n",
    "]\n",
    "    msg = chat.invoke(message_list)\n",
    "    return msg.content"
   ]
  },
  {
   "cell_type": "code",
   "execution_count": 8,
   "metadata": {},
   "outputs": [
    {
     "name": "stdout",
     "output_type": "stream",
     "text": [
      "./images/Image11.png\n"
     ]
    },
    {
     "name": "stderr",
     "output_type": "stream",
     "text": [
      "/opt/conda/lib/python3.10/site-packages/langchain_core/_api/deprecation.py:119: LangChainDeprecationWarning: The class `BedrockChat` was deprecated in LangChain 0.0.34 and will be removed in 0.3. An updated version of the class exists in the langchain-aws package and should be used instead. To use it run `pip install -U langchain-aws` and import as `from langchain_aws import ChatBedrock`.\n",
      "  warn_deprecated(\n"
     ]
    },
    {
     "name": "stdout",
     "output_type": "stream",
     "text": [
      "./images/Image27.png\n",
      "./images/Image29.png\n",
      "./images/Image41.png\n",
      "./images/Image43.png\n"
     ]
    }
   ],
   "source": [
    "\n",
    "# Prompt\n",
    "prompt = \"\"\"\n",
    "Summarize all the details in the image, focus on the statistics provided in the image such as bar charts and graphs. \n",
    "Make sure to include the time period in the summary, if available. For example, the images shows line graph showing data from 1993 to 2022.\n",
    "\"\"\"\n",
    "\n",
    "# Read images, encode to base64 strings\n",
    "def create_image_summaries(input_files):\n",
    "    img_base64_list = []\n",
    "    image_summaries = []\n",
    "    for file in input_files:\n",
    "        print(file)\n",
    "        base64_image = encode_image(file)\n",
    "        image_summaries.append(invoke_model_sonnet(base64_image,prompt))\n",
    "        img_base64_list.append(base64_image)\n",
    "    return img_base64_list, image_summaries\n",
    "img_base64_list, image_summaries = create_image_summaries(image_paths)\n",
    "\n"
   ]
  },
  {
   "cell_type": "code",
   "execution_count": 9,
   "metadata": {},
   "outputs": [
    {
     "data": {
      "text/html": [
       "<img src=\"data:image/jpeg;base64,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\" />"
      ],
      "text/plain": [
       "<IPython.core.display.HTML object>"
      ]
     },
     "metadata": {},
     "output_type": "display_data"
    },
    {
     "name": "stdout",
     "output_type": "stream",
     "text": [
      "------------------ Image Summary ---------------\n",
      " The image shows a stacked bar chart displaying the distribution of wildfire suppression costs across different entities from 2018 to 2022 (projected). The bars are divided into four segments representing the Forest Service, Department of the Interior (DOI), Other federal agencies, and Non-federal entities.\n",
      "\n",
      "In 2018 and 2019, the Forest Service accounted for the largest portion of the costs, followed by DOI, Other federal, and Non-federal entities.\n",
      "\n",
      "However, in 2020 and 2021, DOI surpassed the Forest Service as the entity with the highest wildfire suppression costs.\n",
      "\n",
      "For 2022, the projected costs show the Forest Service regaining the top position, followed by DOI, Non-federal entities, and Other federal agencies.\n",
      "\n",
      "The time period covered in the chart spans from 2018 to 2022, providing an overview of the wildfire suppression cost distribution over the past few years and a projection for the current year.\n"
     ]
    }
   ],
   "source": [
    "# lets view the summary of one of the images\n",
    "from IPython.display import display, HTML\n",
    "\n",
    "def plt_img_base64(img_base64):\n",
    "\n",
    "    # Create an HTML img tag with the base64 string as the source\n",
    "    image_html = f'<img src=\"data:image/jpeg;base64,{img_base64}\" />'\n",
    "\n",
    "    # Display the image by rendering the HTML\n",
    "    display(HTML(image_html))\n",
    "\n",
    "plt_img_base64(img_base64_list[3])\n",
    "print(\"------------------ Image Summary ---------------\\n\", image_summaries[3])"
   ]
  },
  {
   "cell_type": "markdown",
   "metadata": {},
   "source": [
    "## Add data into the Vector Store\n",
    "\n",
    "Now we will set up the necessary components for a [multi-vector retriever](#https://python.langchain.com/docs/modules/data_connection/retrievers/multi_vector) system using the Langchain library. We will import required modules, create an instance of the BedrockEmbeddings for text embeddings, initialize a Chroma vector store for indexing document chunks, and set up an in-memory store for parent documents. Finally, we will create a `MultiVectorRetriever` object, which combines the vector store and document store for efficient document retrieval based on vector embeddings."
   ]
  },
  {
   "cell_type": "code",
   "execution_count": 11,
   "metadata": {},
   "outputs": [],
   "source": [
    "import uuid\n",
    "from langchain.vectorstores import Chroma\n",
    "from langchain.storage import InMemoryStore\n",
    "from langchain.schema.document import Document\n",
    "from langchain.retrievers.multi_vector import MultiVectorRetriever\n",
    "from langchain.embeddings import BedrockEmbeddings\n",
    "\n",
    "embedding_model = f'cohere.embed-english-v3'\n",
    "# instantiate embeddings model.\n",
    "embedding_model = BedrockEmbeddings(\n",
    "    client=bedrock_client,\n",
    "    model_id=embedding_model\n",
    ")\n",
    "# define the vector store\n",
    "vectorstore = Chroma(collection_name=\"multi_modal_rag\",\n",
    "                     embedding_function=embedding_model)\n",
    "\n",
    "# define the storage layer for the parent documents\n",
    "store = InMemoryStore()\n",
    "id_key = \"doc_id\"\n",
    "\n",
    "# the retriever (empty to start)\n",
    "retriever = MultiVectorRetriever(\n",
    "    vectorstore=vectorstore,\n",
    "    docstore=store,\n",
    "    id_key=id_key,\n",
    ")"
   ]
  },
  {
   "cell_type": "code",
   "execution_count": 12,
   "metadata": {},
   "outputs": [],
   "source": [
    "# Add texts\n",
    "doc_ids = [str(uuid.uuid4()) for _ in docs]\n",
    "texts = []\n",
    "for i, doc in enumerate(docs):\n",
    "    doc.metadata.update({id_key: doc_ids[i]})\n",
    "    texts.append(doc.page_content)\n",
    "retriever.vectorstore.add_documents(docs)\n",
    "retriever.docstore.mset(list(zip(doc_ids, texts)))"
   ]
  },
  {
   "cell_type": "code",
   "execution_count": 13,
   "metadata": {},
   "outputs": [],
   "source": [
    "# Add image summaries\n",
    "img_ids = [str(uuid.uuid4()) for _ in img_base64_list]\n",
    "summary_img = [\n",
    "    Document(page_content=s, metadata={id_key: img_ids[i]})\n",
    "    for i, s in enumerate(image_summaries)\n",
    "]\n",
    "retriever.vectorstore.add_documents(summary_img)\n",
    "retriever.docstore.mset(list(zip(img_ids, img_base64_list)))"
   ]
  },
  {
   "cell_type": "markdown",
   "metadata": {},
   "source": [
    "### Verify the retrieved data\n",
    "Now that we have added our text, image summaries and base64 images to the vector store, let's check that the retrieval is giving the relevant documents related to the query by following below steps: \n",
    "- We will first retrieve relevant documents using a retriever object and  write the helper function to split the retrieved documents into base64-encoded images and text chunks. \n",
    "- Finally print the number of retrieved images and text chunks. We will verify the result by displaying the first retrieved image, and printing the dictionary containing the separated images and text chunks."
   ]
  },
  {
   "cell_type": "code",
   "execution_count": 14,
   "metadata": {},
   "outputs": [
    {
     "name": "stderr",
     "output_type": "stream",
     "text": [
      "/opt/conda/lib/python3.10/site-packages/langchain_core/_api/deprecation.py:119: LangChainDeprecationWarning: The method `BaseRetriever.get_relevant_documents` was deprecated in langchain-core 0.1.46 and will be removed in 0.3.0. Use invoke instead.\n",
      "  warn_deprecated(\n"
     ]
    },
    {
     "data": {
      "text/plain": [
       "4"
      ]
     },
     "execution_count": 14,
     "metadata": {},
     "output_type": "execute_result"
    }
   ],
   "source": [
    "docs = retriever.get_relevant_documents(\n",
    "    \"What is the change in wild fires from 1993 to 2022?\"\n",
    ")\n",
    "len(docs)"
   ]
  },
  {
   "cell_type": "code",
   "execution_count": 15,
   "metadata": {},
   "outputs": [
    {
     "name": "stdout",
     "output_type": "stream",
     "text": [
      "# images retrieved:  1\n",
      "# of text chunk retrieved:  3\n",
      "---------------- Retrieved Image -------------\n"
     ]
    },
    {
     "data": {
      "text/html": [
       "<img src=\"data:image/jpeg;base64,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\" />"
      ],
      "text/plain": [
       "<IPython.core.display.HTML object>"
      ]
     },
     "metadata": {},
     "output_type": "display_data"
    }
   ],
   "source": [
    "from base64 import b64decode\n",
    "def split_image_text_types(docs):\n",
    "    ''' Split base64-encoded images and texts '''\n",
    "    b64 = []\n",
    "    text = []\n",
    "    for doc in docs:\n",
    "        try:\n",
    "            b64decode(doc)\n",
    "            b64.append(doc)\n",
    "        except Exception as e:\n",
    "            text.append(doc)\n",
    "    return {\n",
    "        \"images\": b64,\n",
    "        \"texts\": text\n",
    "    }\n",
    "docs_by_type = split_image_text_types(docs)\n",
    "print(\"# images retrieved: \", len(docs_by_type[\"images\"]))\n",
    "print(\"# of text chunk retrieved: \", len(docs_by_type[\"texts\"]))\n",
    "print('---------------- Retrieved Image -------------')\n",
    "if docs_by_type[\"images\"]:\n",
    "    plt_img_base64(docs_by_type[\"images\"][0])"
   ]
  },
  {
   "cell_type": "code",
   "execution_count": 16,
   "metadata": {},
   "outputs": [
    {
     "name": "stdout",
     "output_type": "stream",
     "text": [
      "('age Burned by Region and Ownership  \\n'\n",
      " ' \\n'\n",
      " 'Source: NICC  Wildland Fire Summary and Statistics annual reports . \\n'\n",
      " 'Notes:  West: AK, AZ, CA, CO, ID, HI, MT, NM, NV, OR, UT, WA , \\n'\n",
      " 'and WY. East: All other states  and Puerto Rico.  Resources  \\n'\n",
      " 'Another metric useful for assessing wildfire activity is the \\n'\n",
      " 'extent to which nationwide resources —including personnel  \\n'\n",
      " 'and equipment —are engaged in  wildfire suppression . A \\n'\n",
      " 'proxy for resource commitments is the nationwide \\n'\n",
      " 'Preparedness Level  (PL) scale, which  ranges from 1 \\n'\n",
      " '(lowest) to 5 (highest). The higher PLs indicate significant \\n'\n",
      " 'commitment of shared resources. In 2022, the nationwide \\n'\n",
      " 'level was 4 for 10 days and never reached the highest level \\n'\n",
      " '(5). In contrast, t he highest level was reached for  68 days  in \\n'\n",
      " '2021, the longest since at least 2000.  \\n'\n",
      " 'Wildfire Damages  \\n'\n",
      " 'Wildfires may affect  certain ecological resources  \\n'\n",
      " 'beneficially , but wildfires also may have devastating \\n'\n",
      " 'impact s, especially for communities affected by wildfire \\n'\n",
      " 'activity. Statistics showing the level of destruction a  \\n'\n",
      " 'wildfire cause d can provide useful  metrics  to evaluate the \\n'\n",
      " 'fire’s effect . Such statistics may include  acres burned  or \\n'\n",
      " 'impacted , lives lost (firefighte rs and civilians), and \\n'\n",
      " 'structures (residential, commercial, and other) destroyed.  \\n'\n",
      " 'For example, i n 202 2, over 2,700  struc tures were burned in \\n'\n",
      " 'wildfires; the majority of the damage  occurred in California  \\n'\n",
      " '(see Table 2).   \\n'\n",
      " 'Table 2. Loss Statistics  \\n'\n",
      " ' 2019  2020  2021  2022  \\n'\n",
      " 'Structures Burned  963 17,904  5,972  2,717  \\n'\n",
      " '% Residences  46% 54% 60% 46% \\n'\n",
      " 'Source:  NICC  Wildland Fire Summary and Statistics annual reports .   \\n'\n",
      " 'Conflagrations  \\n'\n",
      " 'Of the 1 .6 million wildfires that have occurred since 2000 , \\n'\n",
      " '254 exceeded 100,000 acres  burned  and 1 6 exceeded \\n'\n",
      " '500,000 acres  burned . A')\n"
     ]
    }
   ],
   "source": [
    "\n",
    "pprint.pp(docs_by_type[\"texts\"][1])\n"
   ]
  },
  {
   "cell_type": "code",
   "execution_count": 17,
   "metadata": {},
   "outputs": [
    {
     "data": {
      "text/plain": [
       "{'images': ['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'],\n",
       " 'texts': ['https://crsreports.congress.gov  \\nUpdated June 1, 2023\\nWildfire Statistics\\nWildfires are unplanned fires, including lightning -caused \\nfires, unauthorized human -caused fires, and escaped fires \\nfrom prescribed burn projects. States are responsible for \\nresponding to wildfires that begin o n nonfederal (state, \\nlocal, and private) lands, except for lands protected by \\nfederal agencies under cooperative agreements. The federal \\ngovernment is responsible for responding to wildfires that \\nbegin on federal lands. The Forest Service (FS) —within the \\nU.S. Department of Agriculture —carries out wildfire \\nmanagement and response across the 193 million acres of \\nthe National Forest System  (NFS) . The Department of the \\nInterior (DOI) manages wildfire response for more than 400 \\nmillion acres of national parks, w ildlife refuges and \\npreserves, other public lands, and Indian reservations.  \\nWildfire statistics help illustrate past U.S. wildfire activity. \\nNationwide data compiled by the National Interagency \\nCoordination  Center (NI CC) indicate that the number of \\nannual wildfires is variable but has decreased slightly  over \\nthe last 30 years . The number of acres affected  annually , \\nwhile also variable,  generally has increased (see  Figure 1). \\nSince 2000, an annual average of 7 0,025 wildfires have \\nburned an annual average of 7.0 million acres.  The acreage \\nfigure is more than  double the average annual acreage \\nburned in the 1990s (3. 3 million acres), although a greater \\nnumber of fires occurred annually in the 1990s on average \\n(78,600).  \\nTable 1. Annual Wildfires and Acres Burned   \\n 2018  2019  2020  2021  2022 \\nNumber of Fires (thousands)  \\nFederal  12.5 10.9 14.4 14.0 11.7 \\nFS 5.6 5.3 6.7 6.2 5.9 \\nDOI 7.0 5.3 7.6 7.6 5.8 \\nOther  0.1 0.2 <0.1 0.2 0.1 \\nNon',\n",
       "  'age Burned by Region and Ownership  \\n \\nSource: NICC  Wildland Fire Summary and Statistics annual reports . \\nNotes:  West: AK, AZ, CA, CO, ID, HI, MT, NM, NV, OR, UT, WA , \\nand WY. East: All other states  and Puerto Rico.  Resources  \\nAnother metric useful for assessing wildfire activity is the \\nextent to which nationwide resources —including personnel  \\nand equipment —are engaged in  wildfire suppression . A \\nproxy for resource commitments is the nationwide \\nPreparedness Level  (PL) scale, which  ranges from 1 \\n(lowest) to 5 (highest). The higher PLs indicate significant \\ncommitment of shared resources. In 2022, the nationwide \\nlevel was 4 for 10 days and never reached the highest level \\n(5). In contrast, t he highest level was reached for  68 days  in \\n2021, the longest since at least 2000.  \\nWildfire Damages  \\nWildfires may affect  certain ecological resources  \\nbeneficially , but wildfires also may have devastating \\nimpact s, especially for communities affected by wildfire \\nactivity. Statistics showing the level of destruction a  \\nwildfire cause d can provide useful  metrics  to evaluate the \\nfire’s effect . Such statistics may include  acres burned  or \\nimpacted , lives lost (firefighte rs and civilians), and \\nstructures (residential, commercial, and other) destroyed.  \\nFor example, i n 202 2, over 2,700  struc tures were burned in \\nwildfires; the majority of the damage  occurred in California  \\n(see Table 2).   \\nTable 2. Loss Statistics  \\n 2019  2020  2021  2022  \\nStructures Burned  963 17,904  5,972  2,717  \\n% Residences  46% 54% 60% 46% \\nSource:  NICC  Wildland Fire Summary and Statistics annual reports .   \\nConflagrations  \\nOf the 1 .6 million wildfires that have occurred since 2000 , \\n254 exceeded 100,000 acres  burned  and 1 6 exceeded \\n500,000 acres  burned . A',\n",
       "  'communities , since many fires occur in large, relatively \\nundeveloped areas . Acreage burned also does not in dicate \\nthe severity of a wildfire , the degree of impact upon forest s \\nor soils, or other ecological effects .  \\nMost wildfires are human -caused (89% of the average \\nnumber of wildfires from 201 8 to 202 2). Wildfires caused \\nby lightning tend to be slightly larger and  to burn more \\nacreage (5 3% of the average acreage burned from 201 8 to \\n2022) than human -caused fires .']}"
      ]
     },
     "execution_count": 17,
     "metadata": {},
     "output_type": "execute_result"
    }
   ],
   "source": [
    "docs_by_type"
   ]
  },
  {
   "cell_type": "markdown",
   "metadata": {},
   "source": [
    "## Retrieval Augmented Generation workflow\n",
    "Now that we have verified our retrievals, lets test our solution end to end.\n",
    "- We will first define a function `prompt_func` that takes a dictionary as input and returns a list of messages formatted for a `Anthropic Claude 3 Sonnet` model. \n",
    "    - The function concatenates the text content from the input dictionary and formats it along with the `question` as a prompt for the model. It also includes any images from the input dictionary as base64-encoded data in the prompt. \n",
    "- Next, we will set up a pipeline using the LangChain library, to perform retrieval, followed by passing the retrieved data to the `prompt_func`, which sends the formatted prompt to `Claude 3 Sonnet model`, finally parsing the output using a string output parser (`StrOutputParser`). \n",
    "- We will then invoke the pipeline with the question to get the generated answer."
   ]
  },
  {
   "cell_type": "code",
   "execution_count": 18,
   "metadata": {},
   "outputs": [],
   "source": [
    "from langchain.schema.runnable import RunnablePassthrough, RunnableLambda\n",
    "from langchain.schema.output_parser import StrOutputParser\n",
    "\n",
    "def prompt_func(dict):\n",
    "    format_texts = \"\\n\".join(dict[\"context\"][\"texts\"])\n",
    "    prompt = f'''Answer the question based only on the following context, which can include text and images:\n",
    "    Question: {dict[\"question\"]}\n",
    "    Text:\n",
    "    {format_texts}\n",
    "    '''\n",
    "    content = [{\"type\": \"text\", \"text\": prompt}]\n",
    "    \n",
    "    for image in dict[\"context\"][\"images\"]: \n",
    "        content.append(\n",
    "            {\"type\": \"image\", \"source\": {\"type\": \"base64\", \"media_type\": \"image/png\", \"data\": image}},\n",
    "        )\n",
    "    # pprint.pp(content)\n",
    "    message_list = [\n",
    "    {\n",
    "        \"role\": 'user',\n",
    "        \"content\": content\n",
    "    }\n",
    "]\n",
    "    \n",
    "    return message_list\n",
    "\n",
    "chat_model = BedrockChat(model_id=modelId,\n",
    "                      client=bedrock_client,\n",
    "                       model_kwargs={\n",
    "                      'temperature': 0.1, \n",
    "                      'top_p': 0.1\n",
    "                  } )\n",
    "# RAG pipeline\n",
    "chain = (\n",
    "    {\"context\": retriever | RunnableLambda(split_image_text_types), \"question\": RunnablePassthrough()}\n",
    "    | RunnableLambda(prompt_func)\n",
    "    | chat_model\n",
    "    | StrOutputParser()\n",
    ")"
   ]
  },
  {
   "cell_type": "code",
   "execution_count": 19,
   "metadata": {},
   "outputs": [
    {
     "name": "stdout",
     "output_type": "stream",
     "text": [
      "('Based on the text and image provided, the number of wildfires has decreased '\n",
      " 'slightly from 1993 to 2022, while the number of acres burned annually has '\n",
      " 'generally increased over the same period.\\n'\n",
      " '\\n'\n",
      " 'Specifically, the text states that \"the number of annual wildfires is '\n",
      " 'variable but has decreased slightly over the last 30 years.\" The image also '\n",
      " 'shows a slight downward trend in the number of fires (red line) from the '\n",
      " 'early 1990s to 2022.\\n'\n",
      " '\\n'\n",
      " 'However, the text also notes that \"the number of acres affected annually, '\n",
      " 'while also variable, generally has increased.\" The image corroborates this, '\n",
      " 'depicting an increasing trend in acres burned (gray bars) from the early '\n",
      " '1990s through 2022, despite some fluctuations year-to-year.\\n'\n",
      " '\\n'\n",
      " 'So in summary, while the number of individual wildfire incidents has '\n",
      " 'declined modestly since 1993, the total acreage impacted by wildfires each '\n",
      " 'year has grown substantially over that same nearly 30-year period based on '\n",
      " 'the information provided.')\n"
     ]
    }
   ],
   "source": [
    "generated_answer = chain.invoke(\n",
    "    \"What is the change in wild fires from 1993 to 2022?\"\n",
    ")\n",
    "pprint.pp(generated_answer)"
   ]
  },
  {
   "cell_type": "markdown",
   "metadata": {},
   "source": [
    "Please note that the above response uses both the retrieved text and images, to generate the final answer. "
   ]
  },
  {
   "cell_type": "markdown",
   "metadata": {},
   "source": [
    "## Conclusion\n",
    "In this notebook, we provided the technique to build RAG applications which understand both text and visual data encapsulated in images to provide more relevant and accurate responses to the user. In this approach, we specifically leveraged multimodal Large Language Model (LLM), `Claude 3 Sonnet`, for leveraging both text and visual data for building our RAG application."
   ]
  }
 ],
 "metadata": {
  "kernelspec": {
   "display_name": "Python 3 (ipykernel)",
   "language": "python",
   "name": "python3"
  },
  "language_info": {
   "codemirror_mode": {
    "name": "ipython",
    "version": 3
   },
   "file_extension": ".py",
   "mimetype": "text/x-python",
   "name": "python",
   "nbconvert_exporter": "python",
   "pygments_lexer": "ipython3",
   "version": "3.10.14"
  }
 },
 "nbformat": 4,
 "nbformat_minor": 2
}
