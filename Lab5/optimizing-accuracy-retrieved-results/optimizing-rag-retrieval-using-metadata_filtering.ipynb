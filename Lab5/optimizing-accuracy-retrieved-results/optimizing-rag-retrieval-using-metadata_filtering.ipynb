{
 "cells": [
  {
   "cell_type": "markdown",
   "metadata": {},
   "source": [
    "# Optimize RAG retrieval using metadata filtering\n",
    "For more details, refer AWS Machine Learning blog at https://aws.amazon.com/blogs/machine-learning/knowledge-bases-for-amazon-bedrock-now-supports-metadata-filtering-to-improve-retrieval-accuracy/\n",
    "\n",
    "\n",
    "### Context\n",
    "For RAG-based applications, the accuracy of the generated responses from Foundation Models (FMs) depend on the context provided to the model. Contexts are retrieved from vector stores based on user queries. However, in many situations, you may need to retrieve documents created in a defined period or tagged with certain categories. To refine the search results, you can filter based on document metadata to improve retrieval accuracy, which in turn leads to more relevant and accurate responses aligned with your interests.\n",
    "\n",
    "With metadata filters, you can retrieve not only semantically relevant chunks but a well-defined subset of those relevant chuncks based on applied metadata filters and associated values. Metadata filtering provides more control over the retrieved documents, especially if your queries are ambiguous.\n",
    "\n",
    "\n",
    "\n",
    "<img src=\"images/metadata-filter.png\" width=\"800\" width=\"1000\"/>\n",
    "\n",
    "To apply metatdata filters:\n",
    "\n",
    "- provide a custom metadata file (each up to 10 KB) for each document in the knowledge base (KB). \n",
    "- apply filters to your retrievals, instructing the vector store to pre-filter based on document metadata and then search for relevant documents\n",
    "\n",
    "### Pre-requisite\n",
    "\n",
    "Before being able to answer the questions, the documents must be processed and stored in knowledge base.\n",
    "\n",
    "1. Load the documents into the knowledge base by connecting your s3 bucket (data source). \n",
    "2. Ingestion - Knowledge base will split them into smaller chunks (based on the strategy selected), generate embeddings and store it in the associated vectore store and notebook [0_create_ingest_documents_test_kb.ipynb](../1a_create_ingest_documents_test_kb.ipynb) takes care of it for you.\n",
    "\n",
    "#### Notebook Walkthrough\n",
    "\n",
    "For our notebook we will use the  Knowledge Bases created  for Amazon Bedrock which converts user queries into\n",
    "embeddings, searches the knowledge base, get the relevant results, augment the prompt and then invoking a LLM to generate the response. "
   ]
  },
  {
   "cell_type": "markdown",
   "metadata": {},
   "source": [
    "## Steps\n",
    "1. Download sample data with custom metadata and ingest into current knowledge base (created previously)\n",
    "2. Ingest custom metadata to the knowledge base via ingest job\n",
    "3. Try a query with and without using metadata filtering to observe the difference"
   ]
  },
  {
   "cell_type": "code",
   "execution_count": null,
   "metadata": {},
   "outputs": [],
   "source": [
    "# restart kernel\n",
    "from IPython.core.display import HTML\n",
    "HTML(\"<script>Jupyter.notebook.kernel.restart()</script>\")"
   ]
  },
  {
   "cell_type": "code",
   "execution_count": null,
   "metadata": {},
   "outputs": [],
   "source": [
    "kb_id = \"<knowledge base id>\" # Provide knowledge base id here."
   ]
  },
  {
   "cell_type": "code",
   "execution_count": null,
   "metadata": {},
   "outputs": [],
   "source": [
    "import json\n",
    "import os\n",
    "import boto3\n",
    "from botocore.exceptions import ClientError\n",
    "import pprint\n",
    "from utility import create_bedrock_execution_role, create_oss_policy_attach_bedrock_execution_role, create_policies_in_oss, interactive_sleep\n",
    "import random\n",
    "import zipfile\n",
    "from retrying import retry\n",
    "suffix = random.randrange(200, 900)\n",
    "\n",
    "sts_client = boto3.client('sts')\n",
    "boto3_session = boto3.session.Session()\n",
    "region_name = boto3_session.region_name\n",
    "bedrock_agent_client = boto3_session.client('bedrock-agent', region_name=region_name)\n",
    "\n",
    "pp = pprint.PrettyPrinter(indent=2)"
   ]
  },
  {
   "cell_type": "markdown",
   "metadata": {},
   "source": [
    "## Download data with custom metadata and ingest into current knowledge base"
   ]
  },
  {
   "cell_type": "code",
   "execution_count": null,
   "metadata": {},
   "outputs": [],
   "source": [
    "from urllib.request import urlretrieve\n",
    "# Download and prepare dataset\n",
    "!mkdir -p ./data\n",
    "\n",
    "url = \"https://aws-blogs-artifacts-public.s3.amazonaws.com/ML-16482/30_generated_video_game_records.zip\"\n",
    "data_root = \"data\"\n",
    "\n",
    "zip_path, _ = urlretrieve(url)\n",
    "\n",
    "with zipfile.ZipFile(zip_path, \"r\") as zip:\n",
    "    for zip_info in zip.infolist():\n",
    "        # Skip if it is a directory i.e. __MACOSX\n",
    "        if zip_info.is_dir():\n",
    "            continue\n",
    "        zip_info.filename = os.path.basename(zip_info.filename)\n",
    "        if not zip_info.filename.startswith(\"._\") and zip_info.filename.endswith(\".json\"):\n",
    "            zip.extract(zip_info, data_root)\n",
    "            # print(zip_info.filename)"
   ]
  },
  {
   "cell_type": "markdown",
   "metadata": {},
   "source": [
    "#### Upload custom metadata to S3 Bucket data source"
   ]
  },
  {
   "cell_type": "code",
   "execution_count": null,
   "metadata": {},
   "outputs": [],
   "source": [
    "# Upload data to s3 to the bucket that was configured as a data source to the knowledge base\n",
    "s3_client = boto3.client(\"s3\")\n",
    "def uploadDirectory(path,bucket_name):\n",
    "        for root,dirs,files in os.walk(path):\n",
    "            for file in files:\n",
    "                s3_client.upload_file(os.path.join(root,file),bucket_name,file)\n",
    "\n",
    "uploadDirectory(data_root, bucket_name)"
   ]
  },
  {
   "cell_type": "code",
   "execution_count": null,
   "metadata": {},
   "outputs": [],
   "source": [
    "# Print a sample s3 object (metadata file)\n",
    "# A JSON file with metadata key/value under \"metadataAttributes\"\n",
    "filename = '1.csv.metadata.json'\n",
    "\n",
    "obj = s3_client.get_object(Bucket=bucket_name, Key=filename)\n",
    "print(obj['Body'].read().decode('utf-8'))"
   ]
  },
  {
   "cell_type": "markdown",
   "metadata": {},
   "source": [
    "### Start ingestion job to ingest metadata\n",
    "Once the KB and data source is created, start the ingestion job, which will incremently ingest the metadata."
   ]
  },
  {
   "cell_type": "code",
   "execution_count": null,
   "metadata": {},
   "outputs": [],
   "source": [
    "# Start an ingestion job\n",
    "start_job_response = bedrock_agent_client.start_ingestion_job(knowledgeBaseId = kb_id, dataSourceId = ds_id)"
   ]
  },
  {
   "cell_type": "code",
   "execution_count": null,
   "metadata": {},
   "outputs": [],
   "source": [
    "job = start_job_response[\"ingestionJob\"]\n",
    "pp.pprint(job)"
   ]
  },
  {
   "cell_type": "code",
   "execution_count": null,
   "metadata": {},
   "outputs": [],
   "source": [
    "# Get job \n",
    "while(job['status']!='COMPLETE' ):\n",
    "    get_job_response = bedrock_agent_client.get_ingestion_job(\n",
    "      knowledgeBaseId = kb_id,\n",
    "        dataSourceId = ds_id,\n",
    "        ingestionJobId = job[\"ingestionJobId\"]\n",
    "  )\n",
    "    job = get_job_response[\"ingestionJob\"]\n",
    "pp.pprint(job)\n",
    "interactive_sleep(40)"
   ]
  },
  {
   "cell_type": "markdown",
   "metadata": {},
   "source": [
    "### Query knowledge base using boto3"
   ]
  },
  {
   "cell_type": "code",
   "execution_count": null,
   "metadata": {},
   "outputs": [],
   "source": [
    "bedrock_agent_runtime = boto3.client(\"bedrock-agent-runtime\")"
   ]
  },
  {
   "cell_type": "markdown",
   "metadata": {},
   "source": [
    "#### Query without metadata filtering\n",
    "https://boto3.amazonaws.com/v1/documentation/api/latest/reference/services/bedrock-agent-runtime/client/retrieve.html"
   ]
  },
  {
   "cell_type": "code",
   "execution_count": null,
   "metadata": {},
   "outputs": [],
   "source": [
    "query = 'A strategy game with cool graphic released after 2023'\n",
    "\n",
    "response = bedrock_agent_runtime.retrieve(\n",
    "    knowledgeBaseId=kb_id,\n",
    "    retrievalQuery={\n",
    "        'text': query\n",
    "    }\n",
    ")\n",
    "\n",
    "for game in response.get('retrievalResults'):\n",
    "    # print(f\"Title: {game.get('content').get('text').split('\\n')[0].split(',')[0]}\")\n",
    "    print(f\"Title: {game.get('content').get('text').split(':')[0].split(',')[-1].replace('score ','')}\")\n",
    "    print(f\"Year: {game.get('metadata').get('year')}\")\n",
    "    print(f\"Genre: {game.get('metadata').get('genres')}\")\n",
    " "
   ]
  },
  {
   "cell_type": "markdown",
   "metadata": {},
   "source": [
    "If you don't see any results, wait for ~10s and try again. Note that some video games have the wrong genre and/or year"
   ]
  },
  {
   "cell_type": "markdown",
   "metadata": {},
   "source": [
    "#### Query with metadata filtering"
   ]
  },
  {
   "cell_type": "code",
   "execution_count": null,
   "metadata": {},
   "outputs": [],
   "source": [
    "query = 'A strategy game with cool graphic released after 2023'\n",
    "# genres = Strategy AND year >= 2023\n",
    "metadata_filter = {\n",
    "    \"andAll\": [\n",
    "        {\n",
    "            \"equals\": {\n",
    "                \"key\": \"genres\",\n",
    "                \"value\": \"Strategy\"\n",
    "            }\n",
    "        },\n",
    "        {\n",
    "            \"greaterThanOrEquals\": {\n",
    "                \"key\": \"year\",\n",
    "                \"value\": 2023\n",
    "            }\n",
    "        }\n",
    "    ]\n",
    "}\n",
    "\n",
    "response = bedrock_agent_runtime.retrieve(\n",
    "    knowledgeBaseId=kb_id,\n",
    "    retrievalConfiguration={\n",
    "        \"vectorSearchConfiguration\": {\n",
    "            \"filter\": metadata_filter\n",
    "        }\n",
    "    },\n",
    "    retrievalQuery={\n",
    "        'text': query\n",
    "    }\n",
    ")\n",
    "\n",
    "for game in response.get('retrievalResults'):\n",
    "    # print(f\"Title: {game.get('content').get(\n",
    "    #     'text').split('\\n')[1].split(',')[0]}\")\n",
    "    print(f\"Title: {game.get('content').get('text').split(':')[0].split(',')[-1].replace('score ','')}\")\n",
    "    print(f\"Year: {game.get('metadata').get('year')}\")\n",
    "    print(f\"Genre: {game.get('metadata').get('genres')}\")"
   ]
  },
  {
   "cell_type": "markdown",
   "metadata": {},
   "source": [
    "With the pre-filtering, now 100% of the retrieved results have the correct genre and year"
   ]
  },
  {
   "cell_type": "markdown",
   "metadata": {},
   "source": [
    "<div class=\"alert alert-block alert-warning\">\n",
    "<b>Note:</b> Remember to delete KB, OSS index and related IAM roles and policies to avoid incurring any charges.\n",
    "</div>"
   ]
  }
 ],
 "metadata": {
  "kernelspec": {
   "display_name": "ml16482-E9GSvLml-py3.12",
   "language": "python",
   "name": "python3"
  },
  "language_info": {
   "codemirror_mode": {
    "name": "ipython",
    "version": 3
   },
   "file_extension": ".py",
   "mimetype": "text/x-python",
   "name": "python",
   "nbconvert_exporter": "python",
   "pygments_lexer": "ipython3",
   "version": "3.10.13"
  }
 },
 "nbformat": 4,
 "nbformat_minor": 2
}
